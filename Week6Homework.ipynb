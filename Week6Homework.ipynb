{
 "cells": [
  {
   "cell_type": "code",
   "execution_count": 4,
   "metadata": {
    "scrolled": true
   },
   "outputs": [
    {
     "name": "stdout",
     "output_type": "stream",
     "text": [
      "What is the height of the room in feet? -1\n",
      "You need to type in a number greater than 0\n",
      "What is the height of the room in feet? 0\n",
      "You need to type in a number greater than 0\n",
      "What is the height of the room in feet? 21\n",
      "What is the width of the room in feet? -1\n",
      "You need to type in a number greater than 0\n",
      "What is the width of the room in feet? 0\n",
      "You need to type in a number greater than 0\n",
      "What is the width of the room in feet? 21\n",
      "What is the length of the room in feet? -1\n",
      "You need to type in a number greater than 0\n",
      "What is the length of the room in feet? 0\n",
      "You need to type in a number greater than 0\n",
      "What is the length of the room in feet? 12\n",
      "the total surface area is 1386 ft square\n",
      "you need  3.465 gallons of paint.\n"
     ]
    }
   ],
   "source": [
    "while True:\n",
    "    try:\n",
    "        input_str=input(\"What is the height of the room in feet? \")\n",
    "        height =int(input_str)\n",
    "        if height<=0: \n",
    "            print (\"You need to type in a number greater than 0\")\n",
    "            continue\n",
    "        else:\n",
    "            break\n",
    "    except ValueError:\n",
    "        print (\"sorry, I didn't understand that. \", input_str, \" is not a valid integer.\")\n",
    "        continue\n",
    "    else:\n",
    "        break \n",
    "while True:\n",
    "    try:\n",
    "        input_str=input(\"What is the width of the room in feet? \")\n",
    "        width =int(input_str)\n",
    "        if width<=0: \n",
    "            print (\"You need to type in a number greater than 0\")\n",
    "            continue\n",
    "        else:\n",
    "            break\n",
    "    except ValueError:\n",
    "        print (\"sorry, I didn't understand that. \", input_str, \" is not a valid integer.\")\n",
    "        continue\n",
    "    else:\n",
    "        break \n",
    "while True:\n",
    "    try:\n",
    "        input_str=input(\"What is the length of the room in feet? \")\n",
    "        length =int(input_str)\n",
    "        if length<=0: \n",
    "            print (\"You need to type in a number greater than 0\")\n",
    "            continue\n",
    "        else:\n",
    "            break\n",
    "    except ValueError:\n",
    "        print (\"sorry, I didn't understand that. \", input_str, \" is not a valid integer.\")\n",
    "        continue\n",
    "    else:\n",
    "        break \n",
    "surfaceArea=str((height*length*2)+(height*width*2))\n",
    "print (\"the total surface area is \"+(surfaceArea)+\" ft square\")\n",
    "surfaceArea=int(surfaceArea)\n",
    "paintNeeded=surfaceArea/400\n",
    "print (\"you need \",paintNeeded, \"gallons of paint.\")"
   ]
  },
  {
   "cell_type": "code",
   "execution_count": null,
   "metadata": {},
   "outputs": [],
   "source": []
  },
  {
   "cell_type": "code",
   "execution_count": null,
   "metadata": {},
   "outputs": [],
   "source": []
  }
 ],
 "metadata": {
  "kernelspec": {
   "display_name": "Python 3",
   "language": "python",
   "name": "python3"
  },
  "language_info": {
   "codemirror_mode": {
    "name": "ipython",
    "version": 3
   },
   "file_extension": ".py",
   "mimetype": "text/x-python",
   "name": "python",
   "nbconvert_exporter": "python",
   "pygments_lexer": "ipython3",
   "version": "3.8.3"
  }
 },
 "nbformat": 4,
 "nbformat_minor": 4
}
